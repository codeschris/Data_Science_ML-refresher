{
  "cells": [
    {
      "cell_type": "code",
      "execution_count": 6,
      "metadata": {
        "colab": {
          "base_uri": "https://localhost:8080/",
          "height": 383
        },
        "id": "rdw7Gz1-QE7L",
        "outputId": "692da310-84e0-4289-f8a5-716e58dd0121"
      },
      "outputs": [],
      "source": [
        "import numpy as np\n",
        "import pandas as pd\n",
        "import seaborn as sns\n",
        "\n",
        "%matplotlib inline"
      ]
    },
    {
      "cell_type": "code",
      "execution_count": 7,
      "metadata": {
        "colab": {
          "base_uri": "https://localhost:8080/",
          "height": 467
        },
        "id": "pfF0uuy1sL9J",
        "outputId": "e00f60b4-8129-4486-8a7e-f6684caf8644"
      },
      "outputs": [
        {
          "data": {
            "text/plain": [
              "<Axes: xlabel='median_house_value', ylabel='Count'>"
            ]
          },
          "execution_count": 7,
          "metadata": {},
          "output_type": "execute_result"
        },
        {
          "data": {
            "image/png": "[encoded data removed]",
            "text/plain": [
              "<Figure size 640x480 with 1 Axes>"
            ]
          },
          "metadata": {},
          "output_type": "display_data"
        }
      ],
      "source": [
        "data = pd.read_csv(\"./housing.csv\")\n",
        "sns.histplot(data['median_house_value'])"
      ]
    },
    {
      "cell_type": "markdown",
      "metadata": {
        "id": "jrcnhkg4W8IX"
      },
      "source": [
        "## Preparing the dataset"
      ]
    },
    {
      "cell_type": "code",
      "execution_count": 8,
      "metadata": {
        "colab": {
          "base_uri": "https://localhost:8080/",
          "height": 206
        },
        "id": "3ztw6UTqQqoE",
        "outputId": "1c038c72-36b7-4006-f87b-4b337f80c27f"
      },
      "outputs": [
        {
          "data": {
            "text/html": [
              "<div>\n",
              "<style scoped>\n",
              "    .dataframe tbody tr th:only-of-type {\n",
              "        vertical-align: middle;\n",
              "    }\n",
              "\n",
              "    .dataframe tbody tr th {\n",
              "        vertical-align: top;\n",
              "    }\n",
              "\n",
              "    .dataframe thead th {\n",
              "        text-align: right;\n",
              "    }\n",
              "</style>\n",
              "<table border=\"1\" class=\"dataframe\">\n",
              "  <thead>\n",
              "    <tr style=\"text-align: right;\">\n",
              "      <th></th>\n",
              "      <th>longitude</th>\n",
              "      <th>latitude</th>\n",
              "      <th>housing_median_age</th>\n",
              "      <th>total_rooms</th>\n",
              "      <th>total_bedrooms</th>\n",
              "      <th>population</th>\n",
              "      <th>households</th>\n",
              "      <th>median_income</th>\n",
              "      <th>median_house_value</th>\n",
              "      <th>ocean_proximity</th>\n",
              "    </tr>\n",
              "  </thead>\n",
              "  <tbody>\n",
              "    <tr>\n",
              "      <th>0</th>\n",
              "      <td>-122.23</td>\n",
              "      <td>37.88</td>\n",
              "      <td>41.0</td>\n",
              "      <td>880.0</td>\n",
              "      <td>129.0</td>\n",
              "      <td>322.0</td>\n",
              "      <td>126.0</td>\n",
              "      <td>8.3252</td>\n",
              "      <td>452600.0</td>\n",
              "      <td>NEAR BAY</td>\n",
              "    </tr>\n",
              "    <tr>\n",
              "      <th>1</th>\n",
              "      <td>-122.22</td>\n",
              "      <td>37.86</td>\n",
              "      <td>21.0</td>\n",
              "      <td>7099.0</td>\n",
              "      <td>1106.0</td>\n",
              "      <td>2401.0</td>\n",
              "      <td>1138.0</td>\n",
              "      <td>8.3014</td>\n",
              "      <td>358500.0</td>\n",
              "      <td>NEAR BAY</td>\n",
              "    </tr>\n",
              "    <tr>\n",
              "      <th>2</th>\n",
              "      <td>-122.24</td>\n",
              "      <td>37.85</td>\n",
              "      <td>52.0</td>\n",
              "      <td>1467.0</td>\n",
              "      <td>190.0</td>\n",
              "      <td>496.0</td>\n",
              "      <td>177.0</td>\n",
              "      <td>7.2574</td>\n",
              "      <td>352100.0</td>\n",
              "      <td>NEAR BAY</td>\n",
              "    </tr>\n",
              "    <tr>\n",
              "      <th>3</th>\n",
              "      <td>-122.25</td>\n",
              "      <td>37.85</td>\n",
              "      <td>52.0</td>\n",
              "      <td>1274.0</td>\n",
              "      <td>235.0</td>\n",
              "      <td>558.0</td>\n",
              "      <td>219.0</td>\n",
              "      <td>5.6431</td>\n",
              "      <td>341300.0</td>\n",
              "      <td>NEAR BAY</td>\n",
              "    </tr>\n",
              "    <tr>\n",
              "      <th>4</th>\n",
              "      <td>-122.25</td>\n",
              "      <td>37.85</td>\n",
              "      <td>52.0</td>\n",
              "      <td>1627.0</td>\n",
              "      <td>280.0</td>\n",
              "      <td>565.0</td>\n",
              "      <td>259.0</td>\n",
              "      <td>3.8462</td>\n",
              "      <td>342200.0</td>\n",
              "      <td>NEAR BAY</td>\n",
              "    </tr>\n",
              "  </tbody>\n",
              "</table>\n",
              "</div>"
            ],
            "text/plain": [
              "   longitude  latitude  housing_median_age  total_rooms  total_bedrooms  \\\n",
              "0    -122.23     37.88                41.0        880.0           129.0   \n",
              "1    -122.22     37.86                21.0       7099.0          1106.0   \n",
              "2    -122.24     37.85                52.0       1467.0           190.0   \n",
              "3    -122.25     37.85                52.0       1274.0           235.0   \n",
              "4    -122.25     37.85                52.0       1627.0           280.0   \n",
              "\n",
              "   population  households  median_income  median_house_value ocean_proximity  \n",
              "0       322.0       126.0         8.3252            452600.0        NEAR BAY  \n",
              "1      2401.0      1138.0         8.3014            358500.0        NEAR BAY  \n",
              "2       496.0       177.0         7.2574            352100.0        NEAR BAY  \n",
              "3       558.0       219.0         5.6431            341300.0        NEAR BAY  \n",
              "4       565.0       259.0         3.8462            342200.0        NEAR BAY  "
            ]
          },
          "execution_count": 8,
          "metadata": {},
          "output_type": "execute_result"
        }
      ],
      "source": [
        "data.head()"
      ]
    },
    {
      "cell_type": "code",
      "execution_count": 9,
      "metadata": {
        "id": "3l1RnGZTRHsQ"
      },
      "outputs": [],
      "source": [
        "near_ocean_houses = data[data['ocean_proximity'].isin(['<1H OCEAN', 'INLAND'])]\n",
        "features = ['latitude', 'longitude', 'housing_median_age', 'total_rooms', 'total_bedrooms', 'population', 'households', 'median_income', 'median_house_value']\n",
        "new_data = near_ocean_houses[features]"
      ]
    },
    {
      "cell_type": "markdown",
      "metadata": {
        "id": "0lemWcaaXn5k"
      },
      "source": [
        "## Question 1\n",
        "There's one feature with missing values. What is it? `total_bedrooms`"
      ]
    },
    {
      "cell_type": "code",
      "execution_count": 10,
      "metadata": {
        "colab": {
          "base_uri": "https://localhost:8080/"
        },
        "id": "RePLeSVHXrc-",
        "outputId": "e29921ba-22a2-4fdb-c6c0-5b0c26ea8fd1"
      },
      "outputs": [
        {
          "data": {
            "text/plain": [
              "latitude                0\n",
              "longitude               0\n",
              "housing_median_age      0\n",
              "total_rooms             0\n",
              "total_bedrooms        157\n",
              "population              0\n",
              "households              0\n",
              "median_income           0\n",
              "median_house_value      0\n",
              "dtype: int64"
            ]
          },
          "execution_count": 10,
          "metadata": {},
          "output_type": "execute_result"
        }
      ],
      "source": [
        "new_data.isna().sum()"
      ]
    },
    {
      "cell_type": "markdown",
      "metadata": {
        "id": "OkvZLcNDYMDE"
      },
      "source": [
        "## Question 2\n",
        "What's the median (50% percentile) for variable 'population'? 1195"
      ]
    },
    {
      "cell_type": "code",
      "execution_count": 11,
      "metadata": {
        "colab": {
          "base_uri": "https://localhost:8080/"
        },
        "id": "4u-XsR-aYj5U",
        "outputId": "435dd328-e23e-4e44-f097-3cb64a957ddd"
      },
      "outputs": [
        {
          "data": {
            "text/plain": [
              "1195.0"
            ]
          },
          "execution_count": 11,
          "metadata": {},
          "output_type": "execute_result"
        }
      ],
      "source": [
        "new_data['population'].median()"
      ]
    },
    {
      "cell_type": "markdown",
      "metadata": {
        "id": "Q3S8MegpQlaZ"
      },
      "source": [
        "Preparing and splitting the dataset"
      ]
    },
    {
      "cell_type": "code",
      "execution_count": 12,
      "metadata": {
        "colab": {
          "base_uri": "https://localhost:8080/",
          "height": 424
        },
        "id": "P7KKoAO1QpHY",
        "outputId": "0ec79d4d-e8e4-41d7-fe50-3a7c4b211f08"
      },
      "outputs": [
        {
          "data": {
            "text/html": [
              "<div>\n",
              "<style scoped>\n",
              "    .dataframe tbody tr th:only-of-type {\n",
              "        vertical-align: middle;\n",
              "    }\n",
              "\n",
              "    .dataframe tbody tr th {\n",
              "        vertical-align: top;\n",
              "    }\n",
              "\n",
              "    .dataframe thead th {\n",
              "        text-align: right;\n",
              "    }\n",
              "</style>\n",
              "<table border=\"1\" class=\"dataframe\">\n",
              "  <thead>\n",
              "    <tr style=\"text-align: right;\">\n",
              "      <th></th>\n",
              "      <th>latitude</th>\n",
              "      <th>longitude</th>\n",
              "      <th>housing_median_age</th>\n",
              "      <th>total_rooms</th>\n",
              "      <th>total_bedrooms</th>\n",
              "      <th>population</th>\n",
              "      <th>households</th>\n",
              "      <th>median_income</th>\n",
              "      <th>median_house_value</th>\n",
              "    </tr>\n",
              "  </thead>\n",
              "  <tbody>\n",
              "    <tr>\n",
              "      <th>19963</th>\n",
              "      <td>36.23</td>\n",
              "      <td>-119.14</td>\n",
              "      <td>22.0</td>\n",
              "      <td>2935.0</td>\n",
              "      <td>523.0</td>\n",
              "      <td>1927.0</td>\n",
              "      <td>530.0</td>\n",
              "      <td>2.5875</td>\n",
              "      <td>70400.0</td>\n",
              "    </tr>\n",
              "    <tr>\n",
              "      <th>5929</th>\n",
              "      <td>34.12</td>\n",
              "      <td>-117.79</td>\n",
              "      <td>16.0</td>\n",
              "      <td>2426.0</td>\n",
              "      <td>426.0</td>\n",
              "      <td>1319.0</td>\n",
              "      <td>446.0</td>\n",
              "      <td>4.8125</td>\n",
              "      <td>224500.0</td>\n",
              "    </tr>\n",
              "    <tr>\n",
              "      <th>11377</th>\n",
              "      <td>33.68</td>\n",
              "      <td>-117.97</td>\n",
              "      <td>26.0</td>\n",
              "      <td>3653.0</td>\n",
              "      <td>568.0</td>\n",
              "      <td>1930.0</td>\n",
              "      <td>585.0</td>\n",
              "      <td>5.7301</td>\n",
              "      <td>260900.0</td>\n",
              "    </tr>\n",
              "    <tr>\n",
              "      <th>6443</th>\n",
              "      <td>34.10</td>\n",
              "      <td>-118.03</td>\n",
              "      <td>32.0</td>\n",
              "      <td>2668.0</td>\n",
              "      <td>609.0</td>\n",
              "      <td>1512.0</td>\n",
              "      <td>541.0</td>\n",
              "      <td>2.9422</td>\n",
              "      <td>233100.0</td>\n",
              "    </tr>\n",
              "    <tr>\n",
              "      <th>17546</th>\n",
              "      <td>37.34</td>\n",
              "      <td>-121.87</td>\n",
              "      <td>39.0</td>\n",
              "      <td>2479.0</td>\n",
              "      <td>541.0</td>\n",
              "      <td>1990.0</td>\n",
              "      <td>506.0</td>\n",
              "      <td>2.4306</td>\n",
              "      <td>289100.0</td>\n",
              "    </tr>\n",
              "    <tr>\n",
              "      <th>...</th>\n",
              "      <td>...</td>\n",
              "      <td>...</td>\n",
              "      <td>...</td>\n",
              "      <td>...</td>\n",
              "      <td>...</td>\n",
              "      <td>...</td>\n",
              "      <td>...</td>\n",
              "      <td>...</td>\n",
              "      <td>...</td>\n",
              "    </tr>\n",
              "    <tr>\n",
              "      <th>6651</th>\n",
              "      <td>34.15</td>\n",
              "      <td>-118.14</td>\n",
              "      <td>41.0</td>\n",
              "      <td>1256.0</td>\n",
              "      <td>407.0</td>\n",
              "      <td>855.0</td>\n",
              "      <td>383.0</td>\n",
              "      <td>1.9923</td>\n",
              "      <td>500001.0</td>\n",
              "    </tr>\n",
              "    <tr>\n",
              "      <th>17810</th>\n",
              "      <td>37.40</td>\n",
              "      <td>-121.86</td>\n",
              "      <td>19.0</td>\n",
              "      <td>4043.0</td>\n",
              "      <td>764.0</td>\n",
              "      <td>2196.0</td>\n",
              "      <td>708.0</td>\n",
              "      <td>6.1504</td>\n",
              "      <td>268400.0</td>\n",
              "    </tr>\n",
              "    <tr>\n",
              "      <th>6850</th>\n",
              "      <td>34.07</td>\n",
              "      <td>-118.15</td>\n",
              "      <td>52.0</td>\n",
              "      <td>1983.0</td>\n",
              "      <td>344.0</td>\n",
              "      <td>887.0</td>\n",
              "      <td>331.0</td>\n",
              "      <td>3.2875</td>\n",
              "      <td>234400.0</td>\n",
              "    </tr>\n",
              "    <tr>\n",
              "      <th>2161</th>\n",
              "      <td>36.78</td>\n",
              "      <td>-119.81</td>\n",
              "      <td>37.0</td>\n",
              "      <td>1965.0</td>\n",
              "      <td>364.0</td>\n",
              "      <td>796.0</td>\n",
              "      <td>335.0</td>\n",
              "      <td>3.6250</td>\n",
              "      <td>83400.0</td>\n",
              "    </tr>\n",
              "    <tr>\n",
              "      <th>8992</th>\n",
              "      <td>34.00</td>\n",
              "      <td>-118.35</td>\n",
              "      <td>46.0</td>\n",
              "      <td>3402.0</td>\n",
              "      <td>503.0</td>\n",
              "      <td>1389.0</td>\n",
              "      <td>504.0</td>\n",
              "      <td>5.3462</td>\n",
              "      <td>270400.0</td>\n",
              "    </tr>\n",
              "  </tbody>\n",
              "</table>\n",
              "<p>15687 rows × 9 columns</p>\n",
              "</div>"
            ],
            "text/plain": [
              "       latitude  longitude  housing_median_age  total_rooms  total_bedrooms  \\\n",
              "19963     36.23    -119.14                22.0       2935.0           523.0   \n",
              "5929      34.12    -117.79                16.0       2426.0           426.0   \n",
              "11377     33.68    -117.97                26.0       3653.0           568.0   \n",
              "6443      34.10    -118.03                32.0       2668.0           609.0   \n",
              "17546     37.34    -121.87                39.0       2479.0           541.0   \n",
              "...         ...        ...                 ...          ...             ...   \n",
              "6651      34.15    -118.14                41.0       1256.0           407.0   \n",
              "17810     37.40    -121.86                19.0       4043.0           764.0   \n",
              "6850      34.07    -118.15                52.0       1983.0           344.0   \n",
              "2161      36.78    -119.81                37.0       1965.0           364.0   \n",
              "8992      34.00    -118.35                46.0       3402.0           503.0   \n",
              "\n",
              "       population  households  median_income  median_house_value  \n",
              "19963      1927.0       530.0         2.5875             70400.0  \n",
              "5929       1319.0       446.0         4.8125            224500.0  \n",
              "11377      1930.0       585.0         5.7301            260900.0  \n",
              "6443       1512.0       541.0         2.9422            233100.0  \n",
              "17546      1990.0       506.0         2.4306            289100.0  \n",
              "...           ...         ...            ...                 ...  \n",
              "6651        855.0       383.0         1.9923            500001.0  \n",
              "17810      2196.0       708.0         6.1504            268400.0  \n",
              "6850        887.0       331.0         3.2875            234400.0  \n",
              "2161        796.0       335.0         3.6250             83400.0  \n",
              "8992       1389.0       504.0         5.3462            270400.0  \n",
              "\n",
              "[15687 rows x 9 columns]"
            ]
          },
          "execution_count": 12,
          "metadata": {},
          "output_type": "execute_result"
        }
      ],
      "source": [
        "np.random.seed(42)\n",
        "shuffled_data = new_data.sample(frac=1)\n",
        "shuffled_data"
      ]
    },
    {
      "cell_type": "code",
      "execution_count": 13,
      "metadata": {
        "id": "9ivU7pund82D"
      },
      "outputs": [],
      "source": [
        "train_ratio = 0.6\n",
        "test_ratio = 0.2\n",
        "val_ratio = 0.2\n",
        "\n",
        "train_data, val_data, test_data = np.split(shuffled_data, [int(train_ratio * len(shuffled_data)), int((train_ratio + val_ratio) * len(shuffled_data))])\n",
        "\n",
        "y_train = np.log1p(train_data['median_house_value'])\n",
        "y_val = np.log1p(val_data['median_house_value'])\n",
        "y_test = np.log1p(test_data['median_house_value'])"
      ]
    },
    {
      "cell_type": "markdown",
      "metadata": {
        "id": "XkiVwVLvh1My"
      },
      "source": [
        "## Question 3\n",
        "Answer: Both are equally good"
      ]
    },
    {
      "cell_type": "code",
      "execution_count": 14,
      "metadata": {
        "id": "v7jLDbdWh5dV"
      },
      "outputs": [],
      "source": [
        "train_df_filled_mean = train_data.copy()\n",
        "train_df_filled_mean['total_bedrooms'].fillna(train_data['total_bedrooms'].mean(), inplace=True)\n",
        "train_df_with_zeros = train_data.copy()\n",
        "train_df_with_zeros['total_bedrooms'].fillna(0, inplace=True)\n",
        "\n",
        "def train_linear_regression(X, y):\n",
        "    ones = np.ones(X.shape[0])\n",
        "    X = np.column_stack([ones, X])\n",
        "    XTX = X.T.dot(X)\n",
        "    XTX_inv = np.linalg.inv(XTX)\n",
        "    w_full = XTX_inv.dot(X.T).dot(y)\n",
        "\n",
        "    return w_full[0], w_full[1:]\n",
        "\n",
        "def rmse(y, y_pred):\n",
        "    error = y - y_pred\n",
        "    mse = (error ** 2).mean()\n",
        "    return np.sqrt(mse)"
      ]
    },
    {
      "cell_type": "code",
      "execution_count": 15,
      "metadata": {
        "colab": {
          "base_uri": "https://localhost:8080/",
          "height": 471
        },
        "id": "T4KI7eEU61ax",
        "outputId": "2c7ca9e1-5b93-4920-8a69-bebfb68151e8"
      },
      "outputs": [
        {
          "data": {
            "text/plain": [
              "0.17"
            ]
          },
          "execution_count": 15,
          "metadata": {},
          "output_type": "execute_result"
        },
        {
          "data": {
            "image/png": "[encoded data removed]",
            "text/plain": [
              "<Figure size 640x480 with 1 Axes>"
            ]
          },
          "metadata": {},
          "output_type": "display_data"
        }
      ],
      "source": [
        "w0, w = train_linear_regression(train_df_filled_mean, y_train)\n",
        "y_pred_with_mean = w0 + train_df_filled_mean.values.dot(w)\n",
        "sns.histplot(y_train, color='blue', alpha=0.5, bins=50)\n",
        "sns.histplot(y_pred_with_mean, color='red', alpha=0.5, bins=50)\n",
        "score = rmse(y_train, y_pred_with_mean)\n",
        "round(score, 2)"
      ]
    },
    {
      "cell_type": "code",
      "execution_count": 16,
      "metadata": {
        "colab": {
          "base_uri": "https://localhost:8080/",
          "height": 471
        },
        "id": "kh_xHrJs62fN",
        "outputId": "bc82b51b-ed08-4ce8-d109-ff3ddc4a0451"
      },
      "outputs": [
        {
          "data": {
            "text/plain": [
              "0.17"
            ]
          },
          "execution_count": 16,
          "metadata": {},
          "output_type": "execute_result"
        },
        {
          "data": {
            "image/png": "[encoded data removed]",
            "text/plain": [
              "<Figure size 640x480 with 1 Axes>"
            ]
          },
          "metadata": {},
          "output_type": "display_data"
        }
      ],
      "source": [
        "w0, w = train_linear_regression(train_df_with_zeros, y_train)\n",
        "y_pred_with_zeros = w0 + train_df_with_zeros.values.dot(w)\n",
        "sns.histplot(y_train, color='blue', alpha=0.5, bins=50)\n",
        "sns.histplot(y_pred_with_zeros, color='red', alpha=0.5, bins=50)\n",
        "score = rmse(y_train, y_pred_with_zeros)\n",
        "round(score, 2)"
      ]
    },
    {
      "cell_type": "code",
      "execution_count": 17,
      "metadata": {
        "id": "EZSs_x7t66P_"
      },
      "outputs": [],
      "source": [
        "def prepare_X(X):\n",
        "    X['total_bedrooms'].fillna(0, inplace=True)\n",
        "    return X\n",
        "\n",
        "def split_and_shuffle(X,seed):\n",
        "    init_size = len(new_data)\n",
        "    test_size = int(init_size * 0.2)\n",
        "    val_size = int(init_size * 0.2)\n",
        "    train_size = init_size - test_size - val_size\n",
        "\n",
        "    idx = np.arange(init_size)\n",
        "    np.random.seed(seed)\n",
        "    np.random.shuffle(idx)\n",
        "    train_df = new_data.iloc[idx[train_size:]]\n",
        "    val_df = new_data.iloc[idx[train_size: train_size + val_size]]\n",
        "    test_df = new_data.iloc[idx[train_size + val_size:]]\n",
        "\n",
        "    train_df = train_df.reset_index(drop=True)\n",
        "    val_df = val_df.reset_index(drop=True)\n",
        "    test_df = test_df.reset_index(drop=True)\n",
        "\n",
        "    y_train = np.log1p(train_df['median_house_value'].values)\n",
        "    y_val = np.log1p(val_df['median_house_value'].values)\n",
        "    y_test = np.log1p(test_df['median_house_value'].values)\n",
        "\n",
        "    return train_df, val_df, test_df, y_train, y_val, y_test"
      ]
    },
    {
      "cell_type": "markdown",
      "metadata": {
        "id": "INNE_tye7GXt"
      },
      "source": [
        "## Question 4\n",
        "Answer: 0 (nearest)"
      ]
    },
    {
      "cell_type": "code",
      "execution_count": 18,
      "metadata": {
        "colab": {
          "base_uri": "https://localhost:8080/"
        },
        "id": "yFk4hE3D7O72",
        "outputId": "bfbef1f6-789b-4b02-f0a2-31a5605da7fd"
      },
      "outputs": [
        {
          "name": "stdout",
          "output_type": "stream",
          "text": [
            "R value 0 has RMSE of 0.79\n",
            "R value 1e-06 has RMSE of 0.79\n",
            "R value 0.0001 has RMSE of 0.79\n",
            "R value 0.001 has RMSE of 0.79\n",
            "R value 0.01 has RMSE of 0.79\n",
            "R value 0.1 has RMSE of 0.79\n",
            "R value 1 has RMSE of 0.79\n",
            "R value 5 has RMSE of 0.79\n",
            "R value 10 has RMSE of 0.79\n"
          ]
        }
      ],
      "source": [
        "def train_linear_regression_reg(X, y, r=0.001):\n",
        "    ones = np.ones(X.shape[0])\n",
        "    X = np.column_stack([ones, X])\n",
        "\n",
        "    XTX = X.T.dot(X)\n",
        "    XTX = XTX + r * np.eye(XTX.shape[0])\n",
        "\n",
        "    XTX_inv = np.linalg.inv(XTX)\n",
        "    w_full = XTX_inv.dot(X.T).dot(y)\n",
        "\n",
        "    return w_full[0], w_full[1:]\n",
        "\n",
        "seed = 42\n",
        "for r in [0, 0.000001, 0.0001, 0.001, 0.01, 0.1, 1, 5, 10]:\n",
        "    X = new_data.copy()\n",
        "    X_train, X_val, X_test, y_train, y_val, y_test = split_and_shuffle(X,seed)\n",
        "    X_train = prepare_X(X_train)\n",
        "    w0, w = train_linear_regression_reg(X_train,y_train,r)\n",
        "    X_val = prepare_X(X_val)\n",
        "    y_pred = w0 + X_val.dot(w)\n",
        "    score = rmse(y_test, y_pred)\n",
        "    print(\"R value %s has RMSE of %s\"% (r, round(score, 2)))"
      ]
    },
    {
      "cell_type": "markdown",
      "metadata": {
        "id": "0HduYlKO7VfN"
      },
      "source": [
        "## Question 5\n",
        "Answer = 0.005 (nearest)"
      ]
    },
    {
      "cell_type": "code",
      "execution_count": 19,
      "metadata": {
        "colab": {
          "base_uri": "https://localhost:8080/"
        },
        "id": "v0WGMcaQ7XWN",
        "outputId": "a9b0e3fb-a8a9-4238-97f1-0ae4a9cbff0e"
      },
      "outputs": [
        {
          "data": {
            "text/plain": [
              "0.002"
            ]
          },
          "execution_count": 19,
          "metadata": {},
          "output_type": "execute_result"
        }
      ],
      "source": [
        "scores = []\n",
        "for seed in [0, 1, 2, 3, 4, 5, 6, 7, 8, 9]:\n",
        "    X = new_data.copy()\n",
        "    X_train, X_val, X_test, y_train, y_val, y_test = split_and_shuffle(X,seed)\n",
        "    X_train = prepare_X(X_train)\n",
        "    w0, w = train_linear_regression(X_train, y_train)\n",
        "    y_pred = w0 + X_train.dot(w)\n",
        "    score = rmse(y_train,y_pred)\n",
        "    scores.append(score)\n",
        "\n",
        "round(np.array(scores).std(),3)"
      ]
    },
    {
      "cell_type": "markdown",
      "metadata": {
        "id": "CLlMDaWe7Zrm"
      },
      "source": [
        "## Question 6\n",
        "Answer: 0.13 (nearest)"
      ]
    },
    {
      "cell_type": "code",
      "execution_count": 20,
      "metadata": {
        "colab": {
          "base_uri": "https://localhost:8080/"
        },
        "id": "jzSqGFnF7bfM",
        "outputId": "0cb90057-2be0-45d3-9e40-0ff600f217c7"
      },
      "outputs": [
        {
          "data": {
            "text/plain": [
              "0.17"
            ]
          },
          "execution_count": 20,
          "metadata": {},
          "output_type": "execute_result"
        }
      ],
      "source": [
        "X = new_data.copy()\n",
        "seed = 9\n",
        "X_train, X_val, X_test, y_train, y_val, y_test = split_and_shuffle(X,seed)\n",
        "X_train = pd.concat([X_train,X_val])\n",
        "X_train.reset_index(drop=True)\n",
        "y_train = np.concatenate([y_train,y_val])\n",
        "X_train = prepare_X(X_train)\n",
        "w0, w = train_linear_regression_reg(X_train, y_train, 0.001)\n",
        "X_test = prepare_X(X_test)\n",
        "y_pred = w0 + X_test.dot(w)\n",
        "score = rmse(y_test,y_pred)\n",
        "round(score, 2)"
      ]
    }
  ],
  "metadata": {
    "colab": {
      "provenance": []
    },
    "kernelspec": {
      "display_name": "Python 3",
      "name": "python3"
    },
    "language_info": {
      "codemirror_mode": {
        "name": "ipython",
        "version": 3
      },
      "file_extension": ".py",
      "mimetype": "text/x-python",
      "name": "python",
      "nbconvert_exporter": "python",
      "pygments_lexer": "ipython3",
      "version": "3.11.5"
    }
  },
  "nbformat": 4,
  "nbformat_minor": 0
}
